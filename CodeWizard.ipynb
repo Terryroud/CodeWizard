{
 "cells": [
  {
   "cell_type": "code",
   "execution_count": 103,
   "id": "8501eea8",
   "metadata": {},
   "outputs": [],
   "source": [
    "import pandas as pd\n",
    "import datetime\n",
    "from numpy import loadtxt\n",
    "import matplotlib\n",
    "import matplotlib.pyplot as plt\n",
    "%matplotlib inline\n",
    "import scipy as sp\n",
    "import numpy as np"
   ]
  },
  {
   "cell_type": "code",
   "execution_count": 104,
   "id": "daaa39e6",
   "metadata": {},
   "outputs": [
    {
     "data": {
      "text/plain": [
       "[<matplotlib.lines.Line2D at 0x20097de7dc0>]"
      ]
     },
     "execution_count": 104,
     "metadata": {},
     "output_type": "execute_result"
    },
    {
     "data": {
      "image/png": "[encoded data removed]",
      "text/plain": [
       "<Figure size 800x600 with 1 Axes>"
      ]
     },
     "metadata": {},
     "output_type": "display_data"
    }
   ],
   "source": [
    "data = pd.read_csv('data.csv', header=None, low_memory=False)\n",
    "r = 0\n",
    "\n",
    "all = []\n",
    "name = []\n",
    "for e in range(1, 21, 1):\n",
    "    all.append(list(map(int, data[0][e].split(';')[1:])))\n",
    "    name.append(data[0][e].split(';')[0])\n",
    "               \n",
    "\n",
    "x1 = []\n",
    "y1 = []\n",
    "\n",
    "for i in range(len(all)):\n",
    "    x1.append(all[i][0])\n",
    "    y1.append(all[i][1])\n",
    "    \n",
    "x = np.array(x1)    \n",
    "y = np.array(y1) \n",
    "# настраиваем детали отрисовки графиков\n",
    "plt.figure(figsize=(8, 6))\n",
    "plt.xlabel(\"Len\")\n",
    "plt.ylabel(\"Time\")\n",
    "plt.autoscale(tight=True)\n",
    "plt.xlim(225, 340)\n",
    "plt.ylim(140, 340)\n",
    "\n",
    "# рисуем исходные точки\n",
    "plt.scatter(x, y)\n",
    "\n",
    "mx = sum(x)/len(x)\n",
    "my = sum(y)/len(y)\n",
    "a2 = np.dot(x.T, x) / len(x)\n",
    "a1 = np.dot(y.T, y) / len(y)\n",
    "\n",
    "kk = (a1 - mx*my)/(a2 - mx**2)\n",
    "bb = my - kk*mx\n",
    "ff = np.array([kk*z+bb for z in range(500)])\n",
    "plt.plot(ff, c='red')\n"
   ]
  },
  {
   "cell_type": "code",
   "execution_count": 105,
   "id": "adefb256",
   "metadata": {},
   "outputs": [
    {
     "name": "stdout",
     "output_type": "stream",
     "text": [
      "Козлова Списывает!!!!\n",
      "Барсукова Списывает!!!!\n"
     ]
    }
   ],
   "source": [
    "# finding the 1st quartile\n",
    "q1 = np.quantile(y, 0.25)\n",
    "\n",
    "# finding the 3rd quartile\n",
    "q3 = np.quantile(y, 0.75)\n",
    "med = np.median(y)\n",
    "\n",
    "# finding the iqr region\n",
    "iqr = q3-q1\n",
    "\n",
    "# finding upper and lower whiskers\n",
    "upper_bound = q3+(1.5*iqr)\n",
    "lower_bound = q1-(1.5*iqr)\n",
    "\n",
    "outliers = y[y <= lower_bound]\n",
    "outliers = str(outliers)[1:-1]\n",
    "a = []\n",
    "a = list(map(int, outliers.split(' ')))\n",
    "\n",
    "for i in range(len(all)):\n",
    "    for j in a:\n",
    "        if j == all[i][1]:\n",
    "            print(name[i] + ' Списывает!!!!')\n"
   ]
  },
  {
   "cell_type": "code",
   "execution_count": 47,
   "id": "5fe5c99a",
   "metadata": {},
   "outputs": [
    {
     "name": "stdout",
     "output_type": "stream",
     "text": [
      "0:00:00\n",
      "<class 'datetime.timedelta'>\n",
      "0.0\n"
     ]
    }
   ],
   "source": [
    "def time():\n",
    "    # когда чел нажимает на кнопку \"начать решать задание\"\n",
    "    start = datetime.datetime.now()\n",
    "\n",
    "    # когда чел нажимает на кнопку \"отправить\", при условии, что решилось верно\n",
    "    stop = datetime.datetime.now()\n",
    "\n",
    "    tdelta = stop - start \n",
    "    print(tdelta) \n",
    "    print(type(tdelta))\n",
    "    td = tdelta.total_seconds()\n",
    "    return td  "
   ]
  },
  {
   "cell_type": "code",
   "execution_count": 50,
   "id": "c9b8440a",
   "metadata": {},
   "outputs": [
    {
     "data": {
      "text/plain": [
       "8"
      ]
     },
     "execution_count": 50,
     "metadata": {},
     "output_type": "execute_result"
    }
   ],
   "source": [
    "def LenCode():    \n",
    "    #read text file into NumPy array\n",
    "    my_file = open('my_data.txt', 'r')\n",
    "\n",
    "    #read text file into list \n",
    "    data = my_file.read()\n",
    "\n",
    "    #display content of text file\n",
    "    return len(data)\n",
    "    \n",
    "LenCode()\n",
    "    "
   ]
  },
  {
   "cell_type": "code",
   "execution_count": 39,
   "id": "9f8ae0f7",
   "metadata": {},
   "outputs": [
    {
     "name": "stdout",
     "output_type": "stream",
     "text": [
      "1\n",
      "1\n",
      "1\n",
      "1\n"
     ]
    }
   ],
   "source": [
    "def number(i):\n",
    "    i = input()\n",
    "    return i  \n"
   ]
  }
 ],
 "metadata": {
  "kernelspec": {
   "display_name": "Python 3 (ipykernel)",
   "language": "python",
   "name": "python3"
  },
  "language_info": {
   "codemirror_mode": {
    "name": "ipython",
    "version": 3
   },
   "file_extension": ".py",
   "mimetype": "text/x-python",
   "name": "python",
   "nbconvert_exporter": "python",
   "pygments_lexer": "ipython3",
   "version": "3.10.2"
  }
 },
 "nbformat": 4,
 "nbformat_minor": 5
}
